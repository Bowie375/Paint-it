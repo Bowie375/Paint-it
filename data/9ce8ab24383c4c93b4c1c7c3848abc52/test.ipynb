{
 "cells": [
  {
   "cell_type": "code",
   "execution_count": null,
   "metadata": {},
   "outputs": [],
   "source": [
    "import trimesh\n",
    "import numpy as np\n",
    "import os"
   ]
  },
  {
   "cell_type": "code",
   "execution_count": null,
   "metadata": {},
   "outputs": [],
   "source": [
    "mesh = trimesh.load_mesh(\"/home/bowenxiao/research/Paint-it/logs/20250213_tshirt_cloth/mesh.obj\", process=False)\n",
    "mesh.vertices.shape"
   ]
  },
  {
   "cell_type": "code",
   "execution_count": null,
   "metadata": {},
   "outputs": [],
   "source": [
    "mesh = trimesh.load_mesh(\"/home/bowenxiao/research/Paint-it/data/cloth/mesh.obj\", process=False)\n",
    "mesh.vertices.shape"
   ]
  }
 ],
 "metadata": {
  "kernelspec": {
   "display_name": "garmentds",
   "language": "python",
   "name": "python3"
  },
  "language_info": {
   "codemirror_mode": {
    "name": "ipython",
    "version": 3
   },
   "file_extension": ".py",
   "mimetype": "text/x-python",
   "name": "python",
   "nbconvert_exporter": "python",
   "pygments_lexer": "ipython3",
   "version": "3.9.20"
  }
 },
 "nbformat": 4,
 "nbformat_minor": 2
}
